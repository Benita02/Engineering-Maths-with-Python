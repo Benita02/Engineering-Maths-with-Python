{
 "cells": [
  {
   "cell_type": "code",
   "execution_count": null,
   "metadata": {},
   "outputs": [],
   "source": []
  },
  {
   "cell_type": "markdown",
   "metadata": {},
   "source": [
    "#### get_max function that takes two numbers and returns the higher number"
   ]
  },
  {
   "cell_type": "code",
   "execution_count": 31,
   "metadata": {},
   "outputs": [
    {
     "name": "stdout",
     "output_type": "stream",
     "text": [
      "8\n"
     ]
    }
   ],
   "source": [
    "\n",
    "def get_max(a, b):\n",
    "    if a > b:\n",
    "        return a\n",
    "    return b\n",
    "\n",
    "\n",
    "# Testing out the function\n",
    "x = get_max(7, 8)\n",
    "\n",
    "print(x)\n"
   ]
  },
  {
   "cell_type": "markdown",
   "metadata": {
    "vscode": {
     "languageId": "latex"
    }
   },
   "source": [
    "#### Function that returns the largest number in a list"
   ]
  },
  {
   "cell_type": "code",
   "execution_count": 32,
   "metadata": {},
   "outputs": [],
   "source": [
    "def find_greater(list):\n",
    "    x = list[0]\n",
    "    for i in list:\n",
    "        if i > x:\n",
    "            x = i\n",
    "    print(x)"
   ]
  },
  {
   "cell_type": "code",
   "execution_count": 33,
   "metadata": {},
   "outputs": [
    {
     "name": "stdout",
     "output_type": "stream",
     "text": [
      "-83\n"
     ]
    }
   ],
   "source": [
    "import random\n",
    "\n",
    "list = [random.randint(-1000, 10 )]\n",
    "\n",
    "greater_no = find_greater(list)\n",
    "greater_no"
   ]
  },
  {
   "cell_type": "markdown",
   "metadata": {},
   "source": [
    "#### Method that returns the english name of the last digit of a given number"
   ]
  },
  {
   "cell_type": "code",
   "execution_count": 34,
   "metadata": {},
   "outputs": [
    {
     "data": {
      "text/plain": [
       "7"
      ]
     },
     "execution_count": 34,
     "metadata": {},
     "output_type": "execute_result"
    }
   ],
   "source": [
    "# Function that gets the last digit in any number\n",
    "def get_last_digit_string(number):\n",
    "    number_str = str(number)\n",
    "    return int(number_str[-1])\n",
    "\n",
    "get_last_digit_string(865984847)"
   ]
  },
  {
   "cell_type": "code",
   "execution_count": 35,
   "metadata": {},
   "outputs": [
    {
     "data": {
      "text/plain": [
       "'eight'"
      ]
     },
     "execution_count": 35,
     "metadata": {},
     "output_type": "execute_result"
    }
   ],
   "source": [
    "def last_digit_name(number):\n",
    "    last_digit = number % 10 # can also use get_last_digit_string function\n",
    "    digit_names = {\n",
    "        0: \"zero\",\n",
    "        1: \"one\",\n",
    "        2: \"two\",\n",
    "        3: \"three\",\n",
    "        4: \"four\",\n",
    "        5: \"five\",\n",
    "        6: \"six\",\n",
    "        7: \"seven\",\n",
    "        8: \"eight\",\n",
    "        9: \"nine\"\n",
    "    }\n",
    "    return digit_names.get(last_digit, \"zero\") # or digit_names[last_digit]\n",
    "\n",
    "# Testing out the function\n",
    "last_digit_name(7684978)"
   ]
  },
  {
   "cell_type": "code",
   "execution_count": null,
   "metadata": {},
   "outputs": [],
   "source": []
  }
 ],
 "metadata": {
  "kernelspec": {
   "display_name": "Python 3",
   "language": "python",
   "name": "python3"
  },
  "language_info": {
   "codemirror_mode": {
    "name": "ipython",
    "version": 3
   },
   "file_extension": ".py",
   "mimetype": "text/x-python",
   "name": "python",
   "nbconvert_exporter": "python",
   "pygments_lexer": "ipython3",
   "version": "3.12.4"
  }
 },
 "nbformat": 4,
 "nbformat_minor": 2
}
